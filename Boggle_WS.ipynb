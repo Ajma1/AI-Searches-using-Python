{
  "nbformat": 4,
  "nbformat_minor": 0,
  "metadata": {
    "colab": {
      "provenance": []
    },
    "kernelspec": {
      "name": "python3",
      "display_name": "Python 3"
    },
    "language_info": {
      "name": "python"
    }
  },
  "cells": [
    {
      "cell_type": "code",
      "execution_count": null,
      "metadata": {
        "colab": {
          "base_uri": "https://localhost:8080/"
        },
        "id": "NJ5Z3Qd2GnM4",
        "outputId": "5802be1b-78b8-4e86-f205-de6d3412d5e1"
      },
      "outputs": [
        {
          "output_type": "stream",
          "name": "stdout",
          "text": [
            "Words found: \n",
            "MARS\n",
            "MAN\n",
            "SAND\n",
            "STONED\n",
            "RAT\n",
            "TONE\n",
            "DEAR\n",
            "LATE\n",
            "LATE\n",
            "LONE\n",
            "NOTE\n",
            "NOTE\n"
          ]
        }
      ],
      "source": [
        "#simple boggle word search:\n",
        "\n",
        "dictionary = [\"MAN\", \"MARS\", \"RAT\", \"SAND\", \"LATE\", \"LONE\", \"NOTE\", \"STONED\", \"DEAR\", \"TONE\"]\n",
        "n = len(dictionary)\n",
        "M = 4\n",
        "N = 4\n",
        "\n",
        "def checkWord(Str):\n",
        "\n",
        "\tfor i in range(n):\n",
        "\t\tif (Str == dictionary[i]):\n",
        "\t\t\treturn True\n",
        "\treturn False\n",
        "\n",
        "def findWord(boggle, visited, i, j, Str):\n",
        "\tvisited[i][j] = True\n",
        "\tStr = Str + boggle[i][j]\n",
        "\n",
        "\tif (checkWord(Str)):\n",
        "\t\tprint(Str)\n",
        "\n",
        "\trow = i - 1\n",
        "\twhile row <= i + 1 and row < M:\n",
        "\t\tcol = j - 1\n",
        "    #side se jae ga...\n",
        "\t\twhile col <= j + 1 and col < N:\n",
        "\t\t\tif (row >= 0 and col >= 0 and not visited[row][col]):\n",
        "\t\t\t\tfindWord(boggle, visited, row, col, Str)\n",
        "\t\t\tcol+=1\n",
        "\t\trow+=1\n",
        "\n",
        "\tStr = \"\" + Str[-1]\n",
        "\tvisited[i][j] = False\n",
        "\n",
        "\n",
        "def searchBoggle(boggle):\n",
        "\n",
        "\t# characters as not visited\n",
        "\tvisited = [[False for i in range(N)] for j in range(M)]\n",
        "\n",
        "\t# string\n",
        "\tStr = \"\"\n",
        "\n",
        "\n",
        "\tfor i in range(M):\n",
        "\t  for j in range(N):\n",
        "\t\t  findWord(boggle, visited, i, j, Str)\n",
        "\n",
        "boggle = [[\"M\", \"S\", \"E\", \"F\"], [\"R\", \"A\", \"T\", \"D\"], [\"L\", \"O\", \"N\", \"E\"], [\"K\", \"A\", \"F\", \"B\"]]\n",
        "\n",
        "print(\"Words found: \")\n",
        "searchBoggle(boggle)\n",
        "\n"
      ]
    }
  ]
}