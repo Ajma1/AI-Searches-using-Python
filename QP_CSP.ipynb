{
  "nbformat": 4,
  "nbformat_minor": 0,
  "metadata": {
    "colab": {
      "provenance": []
    },
    "kernelspec": {
      "name": "python3",
      "display_name": "Python 3"
    },
    "language_info": {
      "name": "python"
    }
  },
  "cells": [
    {
      "cell_type": "code",
      "source": [
        "!pip install python-constraint\n",
        "\n",
        "\n",
        "\n",
        "#solving queens problems using CSP:"
      ],
      "metadata": {
        "id": "uPRxlJJM2JLa"
      },
      "execution_count": null,
      "outputs": []
    },
    {
      "cell_type": "code",
      "source": [
        "\n",
        "from constraint import *\n",
        "\n",
        "problem = Problem()\n",
        "cols = range(1,5)\t# 4 queens coloumbs\n",
        "rows = range(1,5)\t# 4 queens rows\n",
        "problem.addVariables(cols, rows)\t# using python-constraint library adding and combining variables\n",
        "\n",
        "# that each queen has to be in a separate column is\n",
        "# implied through the loop and added constraints\n",
        "\n",
        "for col1 in cols:\n",
        "    for col2 in cols:\n",
        "        if col1 < col2:\n",
        "            problem.addConstraint(lambda row1, row2, col1=col1, col2=col2: # lambda\n",
        "                abs(row1-row2) != abs(col1-col2) and\t# this is the diagonal check\n",
        "                row1 != row2, (col1, col2))\t\t\t\t# this is the horizontal check\n",
        "\n",
        "\n",
        "print(\"format is row : col & Provides two solutions\")\n",
        "problem.getSolutions()"
      ],
      "metadata": {
        "colab": {
          "base_uri": "https://localhost:8080/"
        },
        "id": "QZuMMplBxzgu",
        "outputId": "1c983940-83e3-41e1-9d47-5a845836bfab"
      },
      "execution_count": null,
      "outputs": [
        {
          "output_type": "stream",
          "name": "stdout",
          "text": [
            "format is row : col \n"
          ]
        },
        {
          "output_type": "execute_result",
          "data": {
            "text/plain": [
              "[{1: 3, 2: 1, 3: 4, 4: 2}, {1: 2, 2: 4, 3: 1, 4: 3}]"
            ]
          },
          "metadata": {},
          "execution_count": 19
        }
      ]
    },
    {
      "cell_type": "code",
      "source": [
        "from constraint import *\n",
        "\n",
        "problem = Problem()\n",
        "size = 4\n",
        "cols = range(size)\n",
        "rows = range(size)\n",
        "problem.addVariables(cols, rows)\n",
        "for col1 in cols:\n",
        "    for col2 in cols:\n",
        "        if col1 < col2:\n",
        "            problem.addConstraint(lambda row1, row2, col1=col1, col2=col2:\n",
        "                                    abs(row1-row2) != abs(col1-col2) and\n",
        "                                    row1 != row2, (col1, col2))\n",
        "\n",
        "print(\"format is row : col & Provides two solutions\")\n",
        "problem.getSolutions()"
      ],
      "metadata": {
        "colab": {
          "base_uri": "https://localhost:8080/"
        },
        "id": "2o1lJ5Q10Pgn",
        "outputId": "6f94ee34-c789-407e-a2a3-eff056428c99"
      },
      "execution_count": null,
      "outputs": [
        {
          "output_type": "execute_result",
          "data": {
            "text/plain": [
              "[{0: 2, 1: 0, 2: 3, 3: 1}, {0: 1, 1: 3, 2: 0, 3: 2}]"
            ]
          },
          "metadata": {},
          "execution_count": 16
        }
      ]
    }
  ]
}