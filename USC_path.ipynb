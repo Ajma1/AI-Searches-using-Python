{
  "nbformat": 4,
  "nbformat_minor": 0,
  "metadata": {
    "colab": {
      "provenance": []
    },
    "kernelspec": {
      "name": "python3",
      "display_name": "Python 3"
    },
    "language_info": {
      "name": "python"
    }
  },
  "cells": [
    {
      "cell_type": "code",
      "execution_count": null,
      "metadata": {
        "id": "D15PmUG2piFs"
      },
      "outputs": [],
      "source": [
        "\n",
        "\n",
        "#Using UCS to find path:\n",
        "\n",
        "\n",
        "\n",
        "\n",
        "class Node:\n",
        "    def __init__(self,state, parent , action , totcost ):\n",
        "      self.state = state\n",
        "      self.parent = parent\n",
        "      self.action = action\n",
        "      self.totcost = totcost\n",
        "graph = {\n",
        "          \"Oradea\" : Node(\"Oradea\", None, [(\"Zerind\",71),(\"Sibiu\",151)], None),\n",
        "          \"Zerind\" : Node(\"Zerind\", None, [(\"Arad\",75),(\"Oradea\",71)], None),\n",
        "          \"Sibiu\" : Node(\"Sibiu\", None, [(\"Fagaras\",99),(\"Rimnicu Vilcea\",80)], None),\n",
        "          \"Arad\" : Node(\"Arad\", None, [(\"Sibiu\",140),(\"Timisaora\",118)], None),\n",
        "          \"Timisaora\" : Node(\"Timisaora\", None, [(\"Lugoj\",111)], None),\n",
        "          \"Lugoj\" : Node(\"Lugoj\", None, [(\"Mehadia\",70)], None),\n",
        "          \"Mehadia\" : Node(\"Mehadia\", None, [(\"Drobeta\",75)], None),\n",
        "          \"Drobeta\" : Node(\"Drobeta\", None, [(\"Craiova\",120)], None),\n",
        "          \"Craiova\" : Node(\"Craiova\", None, [(\"Rimnicu Vilcea\",146),(\"Pitesti\",138)], None),\n",
        "          \"Rimnicu Vilcea\" : Node(\"Rimnicu Vilcea\", None, [(\"Sibiu\",80),(\"Pitesti\",97)], None),\n",
        "          \"Pitesti\" : Node(\"Pitesti\", None, [(\"Bucharest\",101)], None),\n",
        "          \"Bucharest\" : Node(\"Bucharest\", None, [(\"Pitesti\",101),(\"Fagaras\",211),(\"Urzieeni\",85)], None),\n",
        "          \"Fagaras\" : Node(\"Fagaras\", None, [(\"Sibiu\",99),(\"Bucharest\",211)], None)\n",
        "}"
      ]
    },
    {
      "cell_type": "code",
      "source": [
        "import math\n",
        "\n",
        "def findMin(front):\n",
        "  minV = math.inf\n",
        "  node = ' '\n",
        "  for i in front:\n",
        "    if minV>front[i][1]:\n",
        "      minV = front[i][1]\n",
        "      node = i\n",
        "  return node\n",
        ""
      ],
      "metadata": {
        "id": "290gUKGKqEfS"
      },
      "execution_count": null,
      "outputs": []
    },
    {
      "cell_type": "code",
      "source": [
        "def actionSequence(graph, initState, gstate):\n",
        "  solution = [gstate]\n",
        "\n",
        "  cParent = (graph[gstate].parent , graph[gstate].action)\n",
        "  while cParent!=None:\n",
        "    solution.append(cParent)\n",
        "    cParent = (graph[gstate].parent , graph[gstate].action)\n",
        "  solution.reverse()\n",
        "  return solution\n"
      ],
      "metadata": {
        "id": "80r-IMICqgqs"
      },
      "execution_count": null,
      "outputs": []
    },
    {
      "cell_type": "code",
      "source": [
        "def UCS():\n",
        "  initState = \"Arad\"\n",
        "  gstate = \"Bucharest\"\n",
        "\n",
        "\n",
        "  graph = {\n",
        "    \"Oradea\" : Node(\"Oradea\", None, [(\"Zerind\",71),(\"Sibiu\",151)], 0),\n",
        "    \"Zerind\" : Node(\"Zerind\", None, [(\"Arad\",75),(\"Oradea\",71)], 0),\n",
        "    \"Sibiu\" : Node(\"Sibiu\", None, [(\"Fagaras\",99),(\"Rimnicu Vilcea\",80)], 0),\n",
        "    \"Arad\" : Node(\"Arad\", None, [(\"Sibiu\",140),(\"Timisaora\",118)], 0),\n",
        "    \"Timisaora\" : Node(\"Timisaora\", None, [(\"Lugoj\",111)], 0),\n",
        "    \"Lugoj\" : Node(\"Lugoj\", None, [(\"Mehadia\",70)], 0),\n",
        "    \"Mehadia\" : Node(\"Mehadia\", None, [(\"Drobeta\",75)], 0),\n",
        "    \"Drobeta\" : Node(\"Drobeta\", None, [(\"Craiova\",120)], 0),\n",
        "    \"Craiova\" : Node(\"Craiova\", None, [(\"Rimnicu Vilcea\",146),(\"Pitesti\",138)], 0),\n",
        "    \"Rimnicu Vilcea\" : Node(\"Rimnicu Vilcea\", None, [(\"Sibiu\",80),(\"Pitesti\",97)], 0),\n",
        "    \"Pitesti\" : Node(\"Pitesti\", None, [(\"Bucharest\",101)], 0),\n",
        "    \"Bucharest\" : Node(\"Bucharest\", None, [(\"Pitesti\",101),(\"Fagaras\",211),(\"Urzieeni\",85)], 0),\n",
        "    \"Fagaras\" : Node(\"Fagaras\", None, [(\"Sibiu\",99),(\"Bucharest\",211)], 0)\n",
        "  }\n",
        "\n",
        "  front = dict()\n",
        "  front[initState]=(None, 0)\n",
        "  expl =[]\n",
        "\n",
        "\n",
        "  while len (front) !=0:\n",
        "\n",
        "    currentNode = findMin(front)\n",
        "\n",
        "    del front[currentNode]\n",
        "\n",
        "    if graph[currentNode].state==gstate:\n",
        "\n",
        "      return actionSequence(graph, initState, gstate)\n",
        "\n",
        "    expl.append(currentNode)\n",
        "\n",
        "    for child in graph[currentNode].action:\n",
        "\n",
        "      currentCost = child[1] + graph[currentNode].totcost\n",
        "\n",
        "      if child[0] not in front and child[0] not in expl:\n",
        "         graph[child[0]].parent = currentNode\n",
        "         graph[child[0]].totcost = currentCost\n",
        "         front[child[0]]=(graph[child[0]].parent, graph[child[0]].totcost)\n",
        "\n",
        "      elif child[0] in front:\n",
        "        if front[child[0]] [1] < currentCost:\n",
        "          graph[child[0]].parent = front[child[0]][0]\n",
        "          graph[child[0]].totcost = front[child[0]][1]\n",
        "\n",
        "        else:\n",
        "\n",
        "          front[child[0]] = (currentNode, currentCost)\n",
        "\n",
        "          graph[child[0]].parent = front[child[0]][0]\n",
        "          graph [child[0]].totcost = front[child[0]][1]\n",
        "\n",
        "\n",
        "\n",
        "\n",
        "\n",
        "\n"
      ],
      "metadata": {
        "id": "Hz0VKqNcq3vP"
      },
      "execution_count": null,
      "outputs": []
    },
    {
      "cell_type": "code",
      "source": [
        "solution = UCS()\n",
        "solution\n"
      ],
      "metadata": {
        "id": "CXVv2L7EtSYg"
      },
      "execution_count": null,
      "outputs": []
    }
  ]
}